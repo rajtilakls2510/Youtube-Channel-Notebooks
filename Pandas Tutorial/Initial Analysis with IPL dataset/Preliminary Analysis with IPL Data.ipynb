{
 "cells": [
  {
   "cell_type": "code",
   "execution_count": 5,
   "metadata": {},
   "outputs": [],
   "source": [
    "import pandas as pd\n",
    "import numpy as np"
   ]
  },
  {
   "cell_type": "code",
   "execution_count": 6,
   "metadata": {},
   "outputs": [],
   "source": [
    "matches=pd.read_csv('matches.csv')\n",
    "delivery=pd.read_csv('deliveries.csv')"
   ]
  },
  {
   "cell_type": "code",
   "execution_count": 7,
   "metadata": {
    "collapsed": true
   },
   "outputs": [
    {
     "data": {
      "text/html": [
       "<div>\n",
       "<style scoped>\n",
       "    .dataframe tbody tr th:only-of-type {\n",
       "        vertical-align: middle;\n",
       "    }\n",
       "\n",
       "    .dataframe tbody tr th {\n",
       "        vertical-align: top;\n",
       "    }\n",
       "\n",
       "    .dataframe thead th {\n",
       "        text-align: right;\n",
       "    }\n",
       "</style>\n",
       "<table border=\"1\" class=\"dataframe\">\n",
       "  <thead>\n",
       "    <tr style=\"text-align: right;\">\n",
       "      <th></th>\n",
       "      <th>id</th>\n",
       "      <th>season</th>\n",
       "      <th>city</th>\n",
       "      <th>date</th>\n",
       "      <th>team1</th>\n",
       "      <th>team2</th>\n",
       "      <th>toss_winner</th>\n",
       "      <th>toss_decision</th>\n",
       "      <th>result</th>\n",
       "      <th>dl_applied</th>\n",
       "      <th>winner</th>\n",
       "      <th>win_by_runs</th>\n",
       "      <th>win_by_wickets</th>\n",
       "      <th>player_of_match</th>\n",
       "      <th>venue</th>\n",
       "      <th>umpire1</th>\n",
       "      <th>umpire2</th>\n",
       "      <th>umpire3</th>\n",
       "    </tr>\n",
       "  </thead>\n",
       "  <tbody>\n",
       "    <tr>\n",
       "      <th>0</th>\n",
       "      <td>1</td>\n",
       "      <td>2017</td>\n",
       "      <td>Hyderabad</td>\n",
       "      <td>2017-04-05</td>\n",
       "      <td>Sunrisers Hyderabad</td>\n",
       "      <td>Royal Challengers Bangalore</td>\n",
       "      <td>Royal Challengers Bangalore</td>\n",
       "      <td>field</td>\n",
       "      <td>normal</td>\n",
       "      <td>0</td>\n",
       "      <td>Sunrisers Hyderabad</td>\n",
       "      <td>35</td>\n",
       "      <td>0</td>\n",
       "      <td>Yuvraj Singh</td>\n",
       "      <td>Rajiv Gandhi International Stadium, Uppal</td>\n",
       "      <td>AY Dandekar</td>\n",
       "      <td>NJ Llong</td>\n",
       "      <td>NaN</td>\n",
       "    </tr>\n",
       "    <tr>\n",
       "      <th>1</th>\n",
       "      <td>2</td>\n",
       "      <td>2017</td>\n",
       "      <td>Pune</td>\n",
       "      <td>2017-04-06</td>\n",
       "      <td>Mumbai Indians</td>\n",
       "      <td>Rising Pune Supergiant</td>\n",
       "      <td>Rising Pune Supergiant</td>\n",
       "      <td>field</td>\n",
       "      <td>normal</td>\n",
       "      <td>0</td>\n",
       "      <td>Rising Pune Supergiant</td>\n",
       "      <td>0</td>\n",
       "      <td>7</td>\n",
       "      <td>SPD Smith</td>\n",
       "      <td>Maharashtra Cricket Association Stadium</td>\n",
       "      <td>A Nand Kishore</td>\n",
       "      <td>S Ravi</td>\n",
       "      <td>NaN</td>\n",
       "    </tr>\n",
       "    <tr>\n",
       "      <th>2</th>\n",
       "      <td>3</td>\n",
       "      <td>2017</td>\n",
       "      <td>Rajkot</td>\n",
       "      <td>2017-04-07</td>\n",
       "      <td>Gujarat Lions</td>\n",
       "      <td>Kolkata Knight Riders</td>\n",
       "      <td>Kolkata Knight Riders</td>\n",
       "      <td>field</td>\n",
       "      <td>normal</td>\n",
       "      <td>0</td>\n",
       "      <td>Kolkata Knight Riders</td>\n",
       "      <td>0</td>\n",
       "      <td>10</td>\n",
       "      <td>CA Lynn</td>\n",
       "      <td>Saurashtra Cricket Association Stadium</td>\n",
       "      <td>Nitin Menon</td>\n",
       "      <td>CK Nandan</td>\n",
       "      <td>NaN</td>\n",
       "    </tr>\n",
       "    <tr>\n",
       "      <th>3</th>\n",
       "      <td>4</td>\n",
       "      <td>2017</td>\n",
       "      <td>Indore</td>\n",
       "      <td>2017-04-08</td>\n",
       "      <td>Rising Pune Supergiant</td>\n",
       "      <td>Kings XI Punjab</td>\n",
       "      <td>Kings XI Punjab</td>\n",
       "      <td>field</td>\n",
       "      <td>normal</td>\n",
       "      <td>0</td>\n",
       "      <td>Kings XI Punjab</td>\n",
       "      <td>0</td>\n",
       "      <td>6</td>\n",
       "      <td>GJ Maxwell</td>\n",
       "      <td>Holkar Cricket Stadium</td>\n",
       "      <td>AK Chaudhary</td>\n",
       "      <td>C Shamshuddin</td>\n",
       "      <td>NaN</td>\n",
       "    </tr>\n",
       "    <tr>\n",
       "      <th>4</th>\n",
       "      <td>5</td>\n",
       "      <td>2017</td>\n",
       "      <td>Bangalore</td>\n",
       "      <td>2017-04-08</td>\n",
       "      <td>Royal Challengers Bangalore</td>\n",
       "      <td>Delhi Daredevils</td>\n",
       "      <td>Royal Challengers Bangalore</td>\n",
       "      <td>bat</td>\n",
       "      <td>normal</td>\n",
       "      <td>0</td>\n",
       "      <td>Royal Challengers Bangalore</td>\n",
       "      <td>15</td>\n",
       "      <td>0</td>\n",
       "      <td>KM Jadhav</td>\n",
       "      <td>M Chinnaswamy Stadium</td>\n",
       "      <td>NaN</td>\n",
       "      <td>NaN</td>\n",
       "      <td>NaN</td>\n",
       "    </tr>\n",
       "  </tbody>\n",
       "</table>\n",
       "</div>"
      ],
      "text/plain": [
       "   id  season       city        date                        team1  \\\n",
       "0   1    2017  Hyderabad  2017-04-05          Sunrisers Hyderabad   \n",
       "1   2    2017       Pune  2017-04-06               Mumbai Indians   \n",
       "2   3    2017     Rajkot  2017-04-07                Gujarat Lions   \n",
       "3   4    2017     Indore  2017-04-08       Rising Pune Supergiant   \n",
       "4   5    2017  Bangalore  2017-04-08  Royal Challengers Bangalore   \n",
       "\n",
       "                         team2                  toss_winner toss_decision  \\\n",
       "0  Royal Challengers Bangalore  Royal Challengers Bangalore         field   \n",
       "1       Rising Pune Supergiant       Rising Pune Supergiant         field   \n",
       "2        Kolkata Knight Riders        Kolkata Knight Riders         field   \n",
       "3              Kings XI Punjab              Kings XI Punjab         field   \n",
       "4             Delhi Daredevils  Royal Challengers Bangalore           bat   \n",
       "\n",
       "   result  dl_applied                       winner  win_by_runs  \\\n",
       "0  normal           0          Sunrisers Hyderabad           35   \n",
       "1  normal           0       Rising Pune Supergiant            0   \n",
       "2  normal           0        Kolkata Knight Riders            0   \n",
       "3  normal           0              Kings XI Punjab            0   \n",
       "4  normal           0  Royal Challengers Bangalore           15   \n",
       "\n",
       "   win_by_wickets player_of_match                                      venue  \\\n",
       "0               0    Yuvraj Singh  Rajiv Gandhi International Stadium, Uppal   \n",
       "1               7       SPD Smith    Maharashtra Cricket Association Stadium   \n",
       "2              10         CA Lynn     Saurashtra Cricket Association Stadium   \n",
       "3               6      GJ Maxwell                     Holkar Cricket Stadium   \n",
       "4               0       KM Jadhav                      M Chinnaswamy Stadium   \n",
       "\n",
       "          umpire1        umpire2 umpire3  \n",
       "0     AY Dandekar       NJ Llong     NaN  \n",
       "1  A Nand Kishore         S Ravi     NaN  \n",
       "2     Nitin Menon      CK Nandan     NaN  \n",
       "3    AK Chaudhary  C Shamshuddin     NaN  \n",
       "4             NaN            NaN     NaN  "
      ]
     },
     "execution_count": 7,
     "metadata": {},
     "output_type": "execute_result"
    }
   ],
   "source": [
    "matches.head()"
   ]
  },
  {
   "cell_type": "code",
   "execution_count": 4,
   "metadata": {
    "collapsed": true
   },
   "outputs": [
    {
     "data": {
      "text/html": [
       "<div>\n",
       "<style scoped>\n",
       "    .dataframe tbody tr th:only-of-type {\n",
       "        vertical-align: middle;\n",
       "    }\n",
       "\n",
       "    .dataframe tbody tr th {\n",
       "        vertical-align: top;\n",
       "    }\n",
       "\n",
       "    .dataframe thead th {\n",
       "        text-align: right;\n",
       "    }\n",
       "</style>\n",
       "<table border=\"1\" class=\"dataframe\">\n",
       "  <thead>\n",
       "    <tr style=\"text-align: right;\">\n",
       "      <th></th>\n",
       "      <th>match_id</th>\n",
       "      <th>inning</th>\n",
       "      <th>batting_team</th>\n",
       "      <th>bowling_team</th>\n",
       "      <th>over</th>\n",
       "      <th>ball</th>\n",
       "      <th>batsman</th>\n",
       "      <th>non_striker</th>\n",
       "      <th>bowler</th>\n",
       "      <th>is_super_over</th>\n",
       "      <th>...</th>\n",
       "      <th>bye_runs</th>\n",
       "      <th>legbye_runs</th>\n",
       "      <th>noball_runs</th>\n",
       "      <th>penalty_runs</th>\n",
       "      <th>batsman_runs</th>\n",
       "      <th>extra_runs</th>\n",
       "      <th>total_runs</th>\n",
       "      <th>player_dismissed</th>\n",
       "      <th>dismissal_kind</th>\n",
       "      <th>fielder</th>\n",
       "    </tr>\n",
       "  </thead>\n",
       "  <tbody>\n",
       "    <tr>\n",
       "      <th>0</th>\n",
       "      <td>1</td>\n",
       "      <td>1</td>\n",
       "      <td>Sunrisers Hyderabad</td>\n",
       "      <td>Royal Challengers Bangalore</td>\n",
       "      <td>1</td>\n",
       "      <td>1</td>\n",
       "      <td>DA Warner</td>\n",
       "      <td>S Dhawan</td>\n",
       "      <td>TS Mills</td>\n",
       "      <td>0</td>\n",
       "      <td>...</td>\n",
       "      <td>0</td>\n",
       "      <td>0</td>\n",
       "      <td>0</td>\n",
       "      <td>0</td>\n",
       "      <td>0</td>\n",
       "      <td>0</td>\n",
       "      <td>0</td>\n",
       "      <td>NaN</td>\n",
       "      <td>NaN</td>\n",
       "      <td>NaN</td>\n",
       "    </tr>\n",
       "    <tr>\n",
       "      <th>1</th>\n",
       "      <td>1</td>\n",
       "      <td>1</td>\n",
       "      <td>Sunrisers Hyderabad</td>\n",
       "      <td>Royal Challengers Bangalore</td>\n",
       "      <td>1</td>\n",
       "      <td>2</td>\n",
       "      <td>DA Warner</td>\n",
       "      <td>S Dhawan</td>\n",
       "      <td>TS Mills</td>\n",
       "      <td>0</td>\n",
       "      <td>...</td>\n",
       "      <td>0</td>\n",
       "      <td>0</td>\n",
       "      <td>0</td>\n",
       "      <td>0</td>\n",
       "      <td>0</td>\n",
       "      <td>0</td>\n",
       "      <td>0</td>\n",
       "      <td>NaN</td>\n",
       "      <td>NaN</td>\n",
       "      <td>NaN</td>\n",
       "    </tr>\n",
       "    <tr>\n",
       "      <th>2</th>\n",
       "      <td>1</td>\n",
       "      <td>1</td>\n",
       "      <td>Sunrisers Hyderabad</td>\n",
       "      <td>Royal Challengers Bangalore</td>\n",
       "      <td>1</td>\n",
       "      <td>3</td>\n",
       "      <td>DA Warner</td>\n",
       "      <td>S Dhawan</td>\n",
       "      <td>TS Mills</td>\n",
       "      <td>0</td>\n",
       "      <td>...</td>\n",
       "      <td>0</td>\n",
       "      <td>0</td>\n",
       "      <td>0</td>\n",
       "      <td>0</td>\n",
       "      <td>4</td>\n",
       "      <td>0</td>\n",
       "      <td>4</td>\n",
       "      <td>NaN</td>\n",
       "      <td>NaN</td>\n",
       "      <td>NaN</td>\n",
       "    </tr>\n",
       "    <tr>\n",
       "      <th>3</th>\n",
       "      <td>1</td>\n",
       "      <td>1</td>\n",
       "      <td>Sunrisers Hyderabad</td>\n",
       "      <td>Royal Challengers Bangalore</td>\n",
       "      <td>1</td>\n",
       "      <td>4</td>\n",
       "      <td>DA Warner</td>\n",
       "      <td>S Dhawan</td>\n",
       "      <td>TS Mills</td>\n",
       "      <td>0</td>\n",
       "      <td>...</td>\n",
       "      <td>0</td>\n",
       "      <td>0</td>\n",
       "      <td>0</td>\n",
       "      <td>0</td>\n",
       "      <td>0</td>\n",
       "      <td>0</td>\n",
       "      <td>0</td>\n",
       "      <td>NaN</td>\n",
       "      <td>NaN</td>\n",
       "      <td>NaN</td>\n",
       "    </tr>\n",
       "    <tr>\n",
       "      <th>4</th>\n",
       "      <td>1</td>\n",
       "      <td>1</td>\n",
       "      <td>Sunrisers Hyderabad</td>\n",
       "      <td>Royal Challengers Bangalore</td>\n",
       "      <td>1</td>\n",
       "      <td>5</td>\n",
       "      <td>DA Warner</td>\n",
       "      <td>S Dhawan</td>\n",
       "      <td>TS Mills</td>\n",
       "      <td>0</td>\n",
       "      <td>...</td>\n",
       "      <td>0</td>\n",
       "      <td>0</td>\n",
       "      <td>0</td>\n",
       "      <td>0</td>\n",
       "      <td>0</td>\n",
       "      <td>2</td>\n",
       "      <td>2</td>\n",
       "      <td>NaN</td>\n",
       "      <td>NaN</td>\n",
       "      <td>NaN</td>\n",
       "    </tr>\n",
       "  </tbody>\n",
       "</table>\n",
       "<p>5 rows × 21 columns</p>\n",
       "</div>"
      ],
      "text/plain": [
       "   match_id  inning         batting_team                 bowling_team  over  \\\n",
       "0         1       1  Sunrisers Hyderabad  Royal Challengers Bangalore     1   \n",
       "1         1       1  Sunrisers Hyderabad  Royal Challengers Bangalore     1   \n",
       "2         1       1  Sunrisers Hyderabad  Royal Challengers Bangalore     1   \n",
       "3         1       1  Sunrisers Hyderabad  Royal Challengers Bangalore     1   \n",
       "4         1       1  Sunrisers Hyderabad  Royal Challengers Bangalore     1   \n",
       "\n",
       "   ball    batsman non_striker    bowler  is_super_over  ...  bye_runs  \\\n",
       "0     1  DA Warner    S Dhawan  TS Mills              0  ...         0   \n",
       "1     2  DA Warner    S Dhawan  TS Mills              0  ...         0   \n",
       "2     3  DA Warner    S Dhawan  TS Mills              0  ...         0   \n",
       "3     4  DA Warner    S Dhawan  TS Mills              0  ...         0   \n",
       "4     5  DA Warner    S Dhawan  TS Mills              0  ...         0   \n",
       "\n",
       "   legbye_runs  noball_runs  penalty_runs  batsman_runs  extra_runs  \\\n",
       "0            0            0             0             0           0   \n",
       "1            0            0             0             0           0   \n",
       "2            0            0             0             4           0   \n",
       "3            0            0             0             0           0   \n",
       "4            0            0             0             0           2   \n",
       "\n",
       "   total_runs  player_dismissed dismissal_kind fielder  \n",
       "0           0               NaN            NaN     NaN  \n",
       "1           0               NaN            NaN     NaN  \n",
       "2           4               NaN            NaN     NaN  \n",
       "3           0               NaN            NaN     NaN  \n",
       "4           2               NaN            NaN     NaN  \n",
       "\n",
       "[5 rows x 21 columns]"
      ]
     },
     "execution_count": 4,
     "metadata": {},
     "output_type": "execute_result"
    }
   ],
   "source": [
    "delivery.head()"
   ]
  },
  {
   "cell_type": "markdown",
   "metadata": {},
   "source": [
    "## Questions(for matches.csv)\n",
    "\n",
    "#### - How many matches were played in IPL till today?\n"
   ]
  },
  {
   "cell_type": "code",
   "execution_count": 10,
   "metadata": {},
   "outputs": [
    {
     "data": {
      "text/plain": [
       "756"
      ]
     },
     "execution_count": 10,
     "metadata": {},
     "output_type": "execute_result"
    }
   ],
   "source": [
    "matches.shape[0]"
   ]
  },
  {
   "cell_type": "markdown",
   "metadata": {},
   "source": [
    "#### -  How many matches were played in every season?\n"
   ]
  },
  {
   "cell_type": "code",
   "execution_count": 13,
   "metadata": {},
   "outputs": [
    {
     "data": {
      "text/plain": [
       "2009    57\n",
       "2008    58\n",
       "2015    59\n",
       "2017    59\n",
       "2010    60\n",
       "2014    60\n",
       "2016    60\n",
       "2018    60\n",
       "2019    60\n",
       "2011    73\n",
       "2012    74\n",
       "2013    76\n",
       "Name: season, dtype: int64"
      ]
     },
     "execution_count": 13,
     "metadata": {},
     "output_type": "execute_result"
    }
   ],
   "source": [
    "matches['season'].value_counts(ascending=True)"
   ]
  },
  {
   "cell_type": "markdown",
   "metadata": {},
   "source": [
    "#### -  Which team won IPL 2015?\n",
    "\n"
   ]
  },
  {
   "cell_type": "code",
   "execution_count": 17,
   "metadata": {},
   "outputs": [],
   "source": [
    "matches_15=matches[matches['season']==2015]"
   ]
  },
  {
   "cell_type": "code",
   "execution_count": 20,
   "metadata": {},
   "outputs": [
    {
     "data": {
      "text/plain": [
       "575    Mumbai Indians\n",
       "Name: winner, dtype: object"
      ]
     },
     "execution_count": 20,
     "metadata": {},
     "output_type": "execute_result"
    }
   ],
   "source": [
    "matches_15.drop_duplicates(subset=['season'],keep='last')['winner']"
   ]
  },
  {
   "cell_type": "markdown",
   "metadata": {},
   "source": [
    "## Questions(for deliveries.csv)\n",
    "\n",
    "#### - Which batsmen hit sixes on the first ball of an over?\n"
   ]
  },
  {
   "cell_type": "code",
   "execution_count": 23,
   "metadata": {},
   "outputs": [],
   "source": [
    "ball=delivery[delivery['ball']==1]"
   ]
  },
  {
   "cell_type": "code",
   "execution_count": 26,
   "metadata": {},
   "outputs": [],
   "source": [
    "batsman=ball[ball['batsman_runs']==6]"
   ]
  },
  {
   "cell_type": "code",
   "execution_count": 32,
   "metadata": {
    "collapsed": true
   },
   "outputs": [
    {
     "data": {
      "text/plain": [
       "array(['DJ Hooda', 'HH Pandya', 'CA Lynn', 'M Vohra', 'GJ Maxwell',\n",
       "       'S Dhawan', 'DA Warner', 'MK Pandey', 'N Rana', 'STR Binny',\n",
       "       'RR Pant', 'SV Samson', 'DA Miller', 'SP Narine', 'V Kohli',\n",
       "       'KA Pollard', 'RA Tripathi', 'RV Uthappa', 'YK Pathan',\n",
       "       'Yuvraj Singh', 'AR Patel', 'EJG Morgan', 'MM Sharma', 'KM Jadhav',\n",
       "       'BB McCullum', 'PA Patel', 'SK Raina', 'MC Henriques', 'SPD Smith',\n",
       "       'P Negi', 'Ishan Kishan', 'KH Pandya', 'MJ Guptill',\n",
       "       'AB de Villiers', 'AJ Finch', 'BA Stokes', 'Mandeep Singh',\n",
       "       'LMP Simmons', 'PJ Cummins', 'HM Amla', 'DR Smith', 'SE Marsh',\n",
       "       'WP Saha', 'MK Tiwary', 'G Gambhir', 'AM Rahane', 'SA Yadav',\n",
       "       'P Kumar', 'MEK Hussey', 'JDP Oram', 'S Badrinath', 'RA Jadeja',\n",
       "       'LRPL Taylor', 'MV Boucher', 'JH Kallis', 'AC Gilchrist',\n",
       "       'AS Yadav', 'SR Watson', 'RG Sharma', 'MS Dhoni', 'DJ Bravo',\n",
       "       'A Symonds', 'Kamran Akmal', 'M Kaif', 'LR Shukla', 'KD Karthik',\n",
       "       'V Sehwag', 'SA Asnodkar', 'DJ Hussey', 'S Vidyut',\n",
       "       'DPMD Jayawardene', 'ST Jayasuriya', 'JA Morkel', 'MS Gony',\n",
       "       'IK Pathan', 'Y Venugopal Rao', 'Misbah-ul-Haq', 'SR Tendulkar',\n",
       "       'MF Maharoof', 'HH Gibbs', 'R Dravid', 'AM Nayar', 'SD Chitnis',\n",
       "       'SP Fleming', 'PP Chawla', 'GC Smith', 'SC Ganguly', 'T Henderson',\n",
       "       'K Goel', 'A Flintoff', 'RJ Quiney', 'RS Bopara', 'CH Gayle',\n",
       "       'M Manhas', 'JP Duminy', 'RE van der Merwe', 'SK Warne',\n",
       "       'ML Hayden', 'TM Dilshan', 'NV Ojha', 'PR Shah', 'S Sohal',\n",
       "       'BJ Hodge', 'LA Pomersbach', 'AD Mathews', 'SS Tiwary', 'MS Bisla',\n",
       "       'AC Voges', 'M Vijay', 'MD Mishra', 'PD Collingwood',\n",
       "       'KC Sangakkara', 'TL Suman', 'AB McDonald', 'MR Marsh',\n",
       "       'KP Pietersen', 'MA Agarwal', 'PC Valthaty', 'JR Hopes',\n",
       "       'JD Ryder', 'A Mithun', 'B Chipli', 'OA Shah', 'MN Samuels',\n",
       "       'DT Christian', 'JEC Franklin', 'DW Steyn', 'AT Rayudu', 'Y Nagar',\n",
       "       'DJ Harris', 'S Anirudha', 'K Upadhyay', 'UBT Chand', 'AD Russell',\n",
       "       'JP Faulkner', 'CL White', 'R Rampaul', 'NLTC Perera', 'BJ Rohrer',\n",
       "       'A Ashish Reddy', 'Azhar Mahmood', 'DB Das', 'DJG Sammy',\n",
       "       'RN ten Doeschate', 'R Sathish', 'F du Plessis', 'RR Rossouw',\n",
       "       'MG Johnson', 'CJ Anderson', 'GJ Bailey', 'SS Iyer',\n",
       "       'Harbhajan Singh', 'SN Khan', 'HV Patel', 'KK Nair', 'KV Sharma',\n",
       "       'CH Morris', 'MJ McClenaghan', 'TG Southee', 'Q de Kock',\n",
       "       'R Bhatia', 'CR Brathwaite', 'KL Rahul', 'R Ashwin', 'MP Stoinis',\n",
       "       'Shakib Al Hasan', 'Gurkeerat Singh', 'ER Dwivedi', 'Bipul Sharma',\n",
       "       'JC Buttler', 'E Lewis', 'Washington Sundar', 'KS Williamson',\n",
       "       'R Tewatia', 'P Shaw', 'D Short', 'S Gill', 'BCJ Cutting',\n",
       "       'JJ Roy', 'M Ali', 'C de Grandhomme', 'V Shankar', 'DL Chahar',\n",
       "       'S Dube', 'K Gowtham', 'J Bairstow', 'C Munro', 'N Pooran',\n",
       "       'J Archer', 'R Parag', 'S Rutherford'], dtype=object)"
      ]
     },
     "execution_count": 32,
     "metadata": {},
     "output_type": "execute_result"
    }
   ],
   "source": [
    "batsman['batsman'].drop_duplicates().values"
   ]
  },
  {
   "cell_type": "code",
   "execution_count": 33,
   "metadata": {
    "collapsed": true
   },
   "outputs": [
    {
     "data": {
      "text/plain": [
       "array(['DJ Hooda', 'HH Pandya', 'CA Lynn', 'M Vohra', 'GJ Maxwell',\n",
       "       'S Dhawan', 'DA Warner', 'MK Pandey', 'N Rana', 'STR Binny',\n",
       "       'RR Pant', 'SV Samson', 'DA Miller', 'SP Narine', 'V Kohli',\n",
       "       'KA Pollard', 'RA Tripathi', 'RV Uthappa', 'YK Pathan',\n",
       "       'Yuvraj Singh', 'AR Patel', 'EJG Morgan', 'MM Sharma', 'KM Jadhav',\n",
       "       'BB McCullum', 'PA Patel', 'SK Raina', 'MC Henriques', 'SPD Smith',\n",
       "       'P Negi', 'Ishan Kishan', 'KH Pandya', 'MJ Guptill',\n",
       "       'AB de Villiers', 'AJ Finch', 'BA Stokes', 'Mandeep Singh',\n",
       "       'LMP Simmons', 'PJ Cummins', 'HM Amla', 'DR Smith', 'SE Marsh',\n",
       "       'WP Saha', 'MK Tiwary', 'G Gambhir', 'AM Rahane', 'SA Yadav',\n",
       "       'P Kumar', 'MEK Hussey', 'JDP Oram', 'S Badrinath', 'RA Jadeja',\n",
       "       'LRPL Taylor', 'MV Boucher', 'JH Kallis', 'AC Gilchrist',\n",
       "       'AS Yadav', 'SR Watson', 'RG Sharma', 'MS Dhoni', 'DJ Bravo',\n",
       "       'A Symonds', 'Kamran Akmal', 'M Kaif', 'LR Shukla', 'KD Karthik',\n",
       "       'V Sehwag', 'SA Asnodkar', 'DJ Hussey', 'S Vidyut',\n",
       "       'DPMD Jayawardene', 'ST Jayasuriya', 'JA Morkel', 'MS Gony',\n",
       "       'IK Pathan', 'Y Venugopal Rao', 'Misbah-ul-Haq', 'SR Tendulkar',\n",
       "       'MF Maharoof', 'HH Gibbs', 'R Dravid', 'AM Nayar', 'SD Chitnis',\n",
       "       'SP Fleming', 'PP Chawla', 'GC Smith', 'SC Ganguly', 'T Henderson',\n",
       "       'K Goel', 'A Flintoff', 'RJ Quiney', 'RS Bopara', 'CH Gayle',\n",
       "       'M Manhas', 'JP Duminy', 'RE van der Merwe', 'SK Warne',\n",
       "       'ML Hayden', 'TM Dilshan', 'NV Ojha', 'PR Shah', 'S Sohal',\n",
       "       'BJ Hodge', 'LA Pomersbach', 'AD Mathews', 'SS Tiwary', 'MS Bisla',\n",
       "       'AC Voges', 'M Vijay', 'MD Mishra', 'PD Collingwood',\n",
       "       'KC Sangakkara', 'TL Suman', 'AB McDonald', 'MR Marsh',\n",
       "       'KP Pietersen', 'MA Agarwal', 'PC Valthaty', 'JR Hopes',\n",
       "       'JD Ryder', 'A Mithun', 'B Chipli', 'OA Shah', 'MN Samuels',\n",
       "       'DT Christian', 'JEC Franklin', 'DW Steyn', 'AT Rayudu', 'Y Nagar',\n",
       "       'DJ Harris', 'S Anirudha', 'K Upadhyay', 'UBT Chand', 'AD Russell',\n",
       "       'JP Faulkner', 'CL White', 'R Rampaul', 'NLTC Perera', 'BJ Rohrer',\n",
       "       'A Ashish Reddy', 'Azhar Mahmood', 'DB Das', 'DJG Sammy',\n",
       "       'RN ten Doeschate', 'R Sathish', 'F du Plessis', 'RR Rossouw',\n",
       "       'MG Johnson', 'CJ Anderson', 'GJ Bailey', 'SS Iyer',\n",
       "       'Harbhajan Singh', 'SN Khan', 'HV Patel', 'KK Nair', 'KV Sharma',\n",
       "       'CH Morris', 'MJ McClenaghan', 'TG Southee', 'Q de Kock',\n",
       "       'R Bhatia', 'CR Brathwaite', 'KL Rahul', 'R Ashwin', 'MP Stoinis',\n",
       "       'Shakib Al Hasan', 'Gurkeerat Singh', 'ER Dwivedi', 'Bipul Sharma',\n",
       "       'JC Buttler', 'E Lewis', 'Washington Sundar', 'KS Williamson',\n",
       "       'R Tewatia', 'P Shaw', 'D Short', 'S Gill', 'BCJ Cutting',\n",
       "       'JJ Roy', 'M Ali', 'C de Grandhomme', 'V Shankar', 'DL Chahar',\n",
       "       'S Dube', 'K Gowtham', 'J Bairstow', 'C Munro', 'N Pooran',\n",
       "       'J Archer', 'R Parag', 'S Rutherford'], dtype=object)"
      ]
     },
     "execution_count": 33,
     "metadata": {},
     "output_type": "execute_result"
    }
   ],
   "source": [
    "batsman['batsman'].unique()"
   ]
  },
  {
   "cell_type": "markdown",
   "metadata": {},
   "source": [
    "#### - How many dot balls were bowled by Ashish Nehra?\n"
   ]
  },
  {
   "cell_type": "code",
   "execution_count": 38,
   "metadata": {},
   "outputs": [
    {
     "data": {
      "text/plain": [
       "798"
      ]
     },
     "execution_count": 38,
     "metadata": {},
     "output_type": "execute_result"
    }
   ],
   "source": [
    "delivery[(delivery['bowler']=='A Nehra') & (delivery['total_runs']==0)].shape[0]"
   ]
  },
  {
   "cell_type": "markdown",
   "metadata": {},
   "source": [
    "#### - What are the total runs of every batsman in IPL? "
   ]
  },
  {
   "cell_type": "code",
   "execution_count": null,
   "metadata": {},
   "outputs": [],
   "source": []
  },
  {
   "cell_type": "code",
   "execution_count": null,
   "metadata": {},
   "outputs": [],
   "source": []
  }
 ],
 "metadata": {
  "kernelspec": {
   "display_name": "Python 3",
   "language": "python",
   "name": "python3"
  },
  "language_info": {
   "codemirror_mode": {
    "name": "ipython",
    "version": 3
   },
   "file_extension": ".py",
   "mimetype": "text/x-python",
   "name": "python",
   "nbconvert_exporter": "python",
   "pygments_lexer": "ipython3",
   "version": "3.6.5"
  }
 },
 "nbformat": 4,
 "nbformat_minor": 2
}
