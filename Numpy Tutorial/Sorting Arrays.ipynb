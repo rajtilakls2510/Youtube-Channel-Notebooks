{
 "cells": [
  {
   "cell_type": "code",
   "execution_count": 1,
   "metadata": {},
   "outputs": [],
   "source": [
    "import numpy as np "
   ]
  },
  {
   "cell_type": "code",
   "execution_count": 2,
   "metadata": {},
   "outputs": [],
   "source": [
    "a=np.random.randint(low=10,high=80,size=100)"
   ]
  },
  {
   "cell_type": "code",
   "execution_count": 3,
   "metadata": {},
   "outputs": [
    {
     "data": {
      "text/plain": [
       "array([38, 31, 13, 73, 77, 74, 19, 56, 38, 22, 77, 44, 58, 43, 21, 28, 31,\n",
       "       32, 43, 39, 64, 77, 58, 27, 79, 62, 29, 60, 34, 59, 66, 63, 79, 65,\n",
       "       45, 76, 11, 18, 17, 33, 49, 35, 29, 74, 53, 54, 58, 44, 52, 60, 32,\n",
       "       50, 60, 36, 20, 56, 31, 68, 36, 17, 64, 53, 36, 13, 73, 48, 14, 77,\n",
       "       66, 50, 46, 27, 50, 40, 68, 26, 69, 30, 11, 17, 56, 27, 73, 56, 31,\n",
       "       39, 58, 67, 15, 44, 32, 72, 74, 29, 42, 53, 57, 16, 54, 37])"
      ]
     },
     "execution_count": 3,
     "metadata": {},
     "output_type": "execute_result"
    }
   ],
   "source": [
    "a"
   ]
  },
  {
   "cell_type": "code",
   "execution_count": 4,
   "metadata": {},
   "outputs": [],
   "source": [
    "a.sort()"
   ]
  },
  {
   "cell_type": "code",
   "execution_count": 5,
   "metadata": {},
   "outputs": [
    {
     "data": {
      "text/plain": [
       "array([11, 11, 13, 13, 14, 15, 16, 17, 17, 17, 18, 19, 20, 21, 22, 26, 27,\n",
       "       27, 27, 28, 29, 29, 29, 30, 31, 31, 31, 31, 32, 32, 32, 33, 34, 35,\n",
       "       36, 36, 36, 37, 38, 38, 39, 39, 40, 42, 43, 43, 44, 44, 44, 45, 46,\n",
       "       48, 49, 50, 50, 50, 52, 53, 53, 53, 54, 54, 56, 56, 56, 56, 57, 58,\n",
       "       58, 58, 58, 59, 60, 60, 60, 62, 63, 64, 64, 65, 66, 66, 67, 68, 68,\n",
       "       69, 72, 73, 73, 73, 74, 74, 74, 76, 77, 77, 77, 77, 79, 79])"
      ]
     },
     "execution_count": 5,
     "metadata": {},
     "output_type": "execute_result"
    }
   ],
   "source": [
    "a"
   ]
  },
  {
   "cell_type": "markdown",
   "metadata": {},
   "source": [
    "## argsort()"
   ]
  },
  {
   "cell_type": "code",
   "execution_count": 10,
   "metadata": {},
   "outputs": [],
   "source": [
    "a1=np.random.randint(low=50,high=1000,size=100)"
   ]
  },
  {
   "cell_type": "code",
   "execution_count": 11,
   "metadata": {},
   "outputs": [
    {
     "data": {
      "text/plain": [
       "array([596, 580, 964, 482, 769, 472, 357, 512, 127, 818, 575, 156, 492,\n",
       "       862,  84, 575, 827, 654, 786, 327, 495, 723, 682, 589, 611, 418,\n",
       "       196, 223, 799, 302, 299, 117, 298, 960, 467, 110, 678, 452,  70,\n",
       "       202, 507, 932, 637, 786, 768, 945, 584, 759, 580, 561, 791, 886,\n",
       "       826, 124, 893, 238, 135, 478, 843, 781, 979, 448, 363, 232, 864,\n",
       "       856, 999, 926, 309, 110, 977, 357, 123, 674, 296,  57, 543, 160,\n",
       "       417, 853, 703, 348, 981, 696, 276, 148, 771, 489, 443, 624, 456,\n",
       "       474, 252, 202, 643, 652, 413,  77, 411, 990])"
      ]
     },
     "execution_count": 11,
     "metadata": {},
     "output_type": "execute_result"
    }
   ],
   "source": [
    "a1"
   ]
  },
  {
   "cell_type": "code",
   "execution_count": 12,
   "metadata": {},
   "outputs": [
    {
     "data": {
      "text/plain": [
       "array([75, 38, 97, 14, 35, 69, 31, 72, 53,  8, 56, 85, 11, 77, 26, 93, 39,\n",
       "       27, 63, 55, 92, 84, 74, 32, 30, 29, 68, 19, 81, 71,  6, 62, 98, 96,\n",
       "       78, 25, 88, 61, 37, 90, 34,  5, 91, 57,  3, 87, 12, 20, 40,  7, 76,\n",
       "       49, 15, 10, 48,  1, 46, 23,  0, 24, 89, 42, 94, 95, 17, 73, 36, 22,\n",
       "       83, 80, 21, 47, 44,  4, 86, 59, 43, 18, 50, 28,  9, 52, 16, 58, 79,\n",
       "       65, 13, 64, 51, 54, 67, 41, 45, 33,  2, 70, 60, 82, 99, 66],\n",
       "      dtype=int64)"
      ]
     },
     "execution_count": 12,
     "metadata": {},
     "output_type": "execute_result"
    }
   ],
   "source": [
    "a1.argsort()"
   ]
  },
  {
   "cell_type": "code",
   "execution_count": 13,
   "metadata": {},
   "outputs": [
    {
     "data": {
      "text/plain": [
       "array([ 57,  70,  77,  84, 110, 110, 117, 123, 124, 127, 135, 148, 156,\n",
       "       160, 196, 202, 202, 223, 232, 238, 252, 276, 296, 298, 299, 302,\n",
       "       309, 327, 348, 357, 357, 363, 411, 413, 417, 418, 443, 448, 452,\n",
       "       456, 467, 472, 474, 478, 482, 489, 492, 495, 507, 512, 543, 561,\n",
       "       575, 575, 580, 580, 584, 589, 596, 611, 624, 637, 643, 652, 654,\n",
       "       674, 678, 682, 696, 703, 723, 759, 768, 769, 771, 781, 786, 786,\n",
       "       791, 799, 818, 826, 827, 843, 853, 856, 862, 864, 886, 893, 926,\n",
       "       932, 945, 960, 964, 977, 979, 981, 990, 999])"
      ]
     },
     "execution_count": 13,
     "metadata": {},
     "output_type": "execute_result"
    }
   ],
   "source": [
    "a1[a1.argsort()]"
   ]
  },
  {
   "cell_type": "markdown",
   "metadata": {},
   "source": [
    "## argmax()"
   ]
  },
  {
   "cell_type": "code",
   "execution_count": 14,
   "metadata": {},
   "outputs": [
    {
     "data": {
      "text/plain": [
       "array([596, 580, 964, 482, 769, 472, 357, 512, 127, 818, 575, 156, 492,\n",
       "       862,  84, 575, 827, 654, 786, 327, 495, 723, 682, 589, 611, 418,\n",
       "       196, 223, 799, 302, 299, 117, 298, 960, 467, 110, 678, 452,  70,\n",
       "       202, 507, 932, 637, 786, 768, 945, 584, 759, 580, 561, 791, 886,\n",
       "       826, 124, 893, 238, 135, 478, 843, 781, 979, 448, 363, 232, 864,\n",
       "       856, 999, 926, 309, 110, 977, 357, 123, 674, 296,  57, 543, 160,\n",
       "       417, 853, 703, 348, 981, 696, 276, 148, 771, 489, 443, 624, 456,\n",
       "       474, 252, 202, 643, 652, 413,  77, 411, 990])"
      ]
     },
     "execution_count": 14,
     "metadata": {},
     "output_type": "execute_result"
    }
   ],
   "source": [
    "a1"
   ]
  },
  {
   "cell_type": "code",
   "execution_count": 16,
   "metadata": {},
   "outputs": [
    {
     "data": {
      "text/plain": [
       "999"
      ]
     },
     "execution_count": 16,
     "metadata": {},
     "output_type": "execute_result"
    }
   ],
   "source": [
    "a1[a1.argmax()]"
   ]
  },
  {
   "cell_type": "markdown",
   "metadata": {},
   "source": [
    "## argmin()"
   ]
  },
  {
   "cell_type": "code",
   "execution_count": 18,
   "metadata": {},
   "outputs": [
    {
     "data": {
      "text/plain": [
       "57"
      ]
     },
     "execution_count": 18,
     "metadata": {},
     "output_type": "execute_result"
    }
   ],
   "source": [
    "a1[a1.argmin()]"
   ]
  },
  {
   "cell_type": "code",
   "execution_count": null,
   "metadata": {},
   "outputs": [],
   "source": []
  }
 ],
 "metadata": {
  "kernelspec": {
   "display_name": "Python 3",
   "language": "python",
   "name": "python3"
  },
  "language_info": {
   "codemirror_mode": {
    "name": "ipython",
    "version": 3
   },
   "file_extension": ".py",
   "mimetype": "text/x-python",
   "name": "python",
   "nbconvert_exporter": "python",
   "pygments_lexer": "ipython3",
   "version": "3.6.5"
  }
 },
 "nbformat": 4,
 "nbformat_minor": 2
}
